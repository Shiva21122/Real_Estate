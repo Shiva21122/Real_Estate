{
  "cells": [
    {
      "cell_type": "code",
      "execution_count": 1,
      "metadata": {
        "id": "Vgez9u1EgHi1"
      },
      "outputs": [],
      "source": [
        "import pandas as pd\n",
        "import numpy as np\n",
        "import matplotlib.pyplot as plt\n",
        "%matplotlib inline\n",
        "pd.set_option('display.max_columns', 50)"
      ]
    },
    {
      "cell_type": "code",
      "execution_count": 2,
      "metadata": {
        "colab": {
          "base_uri": "https://localhost:8080/",
          "height": 226
        },
        "id": "dgooU9oygHi1",
        "outputId": "2f513459-6343-4970-97c0-225602625ea3",
        "scrolled": true
      },
      "outputs": [
        {
          "data": {
            "text/html": [
              "<div>\n",
              "<style scoped>\n",
              "    .dataframe tbody tr th:only-of-type {\n",
              "        vertical-align: middle;\n",
              "    }\n",
              "\n",
              "    .dataframe tbody tr th {\n",
              "        vertical-align: top;\n",
              "    }\n",
              "\n",
              "    .dataframe thead th {\n",
              "        text-align: right;\n",
              "    }\n",
              "</style>\n",
              "<table border=\"1\" class=\"dataframe\">\n",
              "  <thead>\n",
              "    <tr style=\"text-align: right;\">\n",
              "      <th></th>\n",
              "      <th>price</th>\n",
              "      <th>year_sold</th>\n",
              "      <th>property_tax</th>\n",
              "      <th>insurance</th>\n",
              "      <th>beds</th>\n",
              "      <th>baths</th>\n",
              "      <th>sqft</th>\n",
              "      <th>year_built</th>\n",
              "      <th>lot_size</th>\n",
              "      <th>basement</th>\n",
              "      <th>popular</th>\n",
              "      <th>recession</th>\n",
              "      <th>property_age</th>\n",
              "      <th>property_type_Condo</th>\n",
              "    </tr>\n",
              "  </thead>\n",
              "  <tbody>\n",
              "    <tr>\n",
              "      <th>0</th>\n",
              "      <td>295850</td>\n",
              "      <td>2013</td>\n",
              "      <td>234</td>\n",
              "      <td>81</td>\n",
              "      <td>1</td>\n",
              "      <td>1</td>\n",
              "      <td>584</td>\n",
              "      <td>2013</td>\n",
              "      <td>0</td>\n",
              "      <td>0</td>\n",
              "      <td>0</td>\n",
              "      <td>1</td>\n",
              "      <td>0</td>\n",
              "      <td>1</td>\n",
              "    </tr>\n",
              "    <tr>\n",
              "      <th>1</th>\n",
              "      <td>216500</td>\n",
              "      <td>2006</td>\n",
              "      <td>169</td>\n",
              "      <td>51</td>\n",
              "      <td>1</td>\n",
              "      <td>1</td>\n",
              "      <td>612</td>\n",
              "      <td>1965</td>\n",
              "      <td>0</td>\n",
              "      <td>0</td>\n",
              "      <td>0</td>\n",
              "      <td>0</td>\n",
              "      <td>41</td>\n",
              "      <td>1</td>\n",
              "    </tr>\n",
              "    <tr>\n",
              "      <th>2</th>\n",
              "      <td>279900</td>\n",
              "      <td>2012</td>\n",
              "      <td>216</td>\n",
              "      <td>74</td>\n",
              "      <td>1</td>\n",
              "      <td>1</td>\n",
              "      <td>615</td>\n",
              "      <td>1963</td>\n",
              "      <td>0</td>\n",
              "      <td>0</td>\n",
              "      <td>0</td>\n",
              "      <td>1</td>\n",
              "      <td>49</td>\n",
              "      <td>1</td>\n",
              "    </tr>\n",
              "    <tr>\n",
              "      <th>3</th>\n",
              "      <td>379900</td>\n",
              "      <td>2005</td>\n",
              "      <td>265</td>\n",
              "      <td>92</td>\n",
              "      <td>1</td>\n",
              "      <td>1</td>\n",
              "      <td>618</td>\n",
              "      <td>2000</td>\n",
              "      <td>33541</td>\n",
              "      <td>1</td>\n",
              "      <td>0</td>\n",
              "      <td>0</td>\n",
              "      <td>5</td>\n",
              "      <td>0</td>\n",
              "    </tr>\n",
              "    <tr>\n",
              "      <th>4</th>\n",
              "      <td>340000</td>\n",
              "      <td>2002</td>\n",
              "      <td>88</td>\n",
              "      <td>30</td>\n",
              "      <td>1</td>\n",
              "      <td>1</td>\n",
              "      <td>634</td>\n",
              "      <td>1992</td>\n",
              "      <td>0</td>\n",
              "      <td>0</td>\n",
              "      <td>0</td>\n",
              "      <td>0</td>\n",
              "      <td>10</td>\n",
              "      <td>1</td>\n",
              "    </tr>\n",
              "  </tbody>\n",
              "</table>\n",
              "</div>"
            ],
            "text/plain": [
              "    price  year_sold  property_tax  insurance  beds  baths  sqft  year_built  \\\n",
              "0  295850       2013           234         81     1      1   584        2013   \n",
              "1  216500       2006           169         51     1      1   612        1965   \n",
              "2  279900       2012           216         74     1      1   615        1963   \n",
              "3  379900       2005           265         92     1      1   618        2000   \n",
              "4  340000       2002            88         30     1      1   634        1992   \n",
              "\n",
              "   lot_size  basement  popular  recession  property_age  property_type_Condo  \n",
              "0         0         0        0          1             0                    1  \n",
              "1         0         0        0          0            41                    1  \n",
              "2         0         0        0          1            49                    1  \n",
              "3     33541         1        0          0             5                    0  \n",
              "4         0         0        0          0            10                    1  "
            ]
          },
          "execution_count": 2,
          "metadata": {},
          "output_type": "execute_result"
        }
      ],
      "source": [
        "# next load the data\n",
        "df = pd.read_csv('final.csv')\n",
        "df.head()"
      ]
    },
    {
      "cell_type": "code",
      "execution_count": 3,
      "metadata": {
        "colab": {
          "base_uri": "https://localhost:8080/",
          "height": 226
        },
        "id": "HrjjVZjVhayp",
        "outputId": "70f7dd56-4e4f-45ff-a4ca-153b06454376"
      },
      "outputs": [
        {
          "data": {
            "text/html": [
              "<div>\n",
              "<style scoped>\n",
              "    .dataframe tbody tr th:only-of-type {\n",
              "        vertical-align: middle;\n",
              "    }\n",
              "\n",
              "    .dataframe tbody tr th {\n",
              "        vertical-align: top;\n",
              "    }\n",
              "\n",
              "    .dataframe thead th {\n",
              "        text-align: right;\n",
              "    }\n",
              "</style>\n",
              "<table border=\"1\" class=\"dataframe\">\n",
              "  <thead>\n",
              "    <tr style=\"text-align: right;\">\n",
              "      <th></th>\n",
              "      <th>price</th>\n",
              "      <th>year_sold</th>\n",
              "      <th>property_tax</th>\n",
              "      <th>insurance</th>\n",
              "      <th>beds</th>\n",
              "      <th>baths</th>\n",
              "      <th>sqft</th>\n",
              "      <th>year_built</th>\n",
              "      <th>lot_size</th>\n",
              "      <th>basement</th>\n",
              "      <th>popular</th>\n",
              "      <th>recession</th>\n",
              "      <th>property_age</th>\n",
              "      <th>property_type_Condo</th>\n",
              "    </tr>\n",
              "  </thead>\n",
              "  <tbody>\n",
              "    <tr>\n",
              "      <th>1855</th>\n",
              "      <td>760000</td>\n",
              "      <td>2008</td>\n",
              "      <td>881</td>\n",
              "      <td>249</td>\n",
              "      <td>5</td>\n",
              "      <td>5</td>\n",
              "      <td>7842</td>\n",
              "      <td>2003</td>\n",
              "      <td>436035</td>\n",
              "      <td>1</td>\n",
              "      <td>0</td>\n",
              "      <td>0</td>\n",
              "      <td>5</td>\n",
              "      <td>0</td>\n",
              "    </tr>\n",
              "    <tr>\n",
              "      <th>1856</th>\n",
              "      <td>690000</td>\n",
              "      <td>2015</td>\n",
              "      <td>1553</td>\n",
              "      <td>473</td>\n",
              "      <td>5</td>\n",
              "      <td>6</td>\n",
              "      <td>6501</td>\n",
              "      <td>1956</td>\n",
              "      <td>23086</td>\n",
              "      <td>1</td>\n",
              "      <td>0</td>\n",
              "      <td>0</td>\n",
              "      <td>59</td>\n",
              "      <td>0</td>\n",
              "    </tr>\n",
              "    <tr>\n",
              "      <th>1857</th>\n",
              "      <td>600000</td>\n",
              "      <td>1999</td>\n",
              "      <td>942</td>\n",
              "      <td>287</td>\n",
              "      <td>5</td>\n",
              "      <td>6</td>\n",
              "      <td>7064</td>\n",
              "      <td>1995</td>\n",
              "      <td>217800</td>\n",
              "      <td>1</td>\n",
              "      <td>0</td>\n",
              "      <td>0</td>\n",
              "      <td>4</td>\n",
              "      <td>0</td>\n",
              "    </tr>\n",
              "    <tr>\n",
              "      <th>1858</th>\n",
              "      <td>759900</td>\n",
              "      <td>2009</td>\n",
              "      <td>803</td>\n",
              "      <td>245</td>\n",
              "      <td>5</td>\n",
              "      <td>6</td>\n",
              "      <td>7500</td>\n",
              "      <td>2006</td>\n",
              "      <td>8886</td>\n",
              "      <td>1</td>\n",
              "      <td>0</td>\n",
              "      <td>0</td>\n",
              "      <td>3</td>\n",
              "      <td>0</td>\n",
              "    </tr>\n",
              "    <tr>\n",
              "      <th>1859</th>\n",
              "      <td>735000</td>\n",
              "      <td>2015</td>\n",
              "      <td>1459</td>\n",
              "      <td>444</td>\n",
              "      <td>5</td>\n",
              "      <td>6</td>\n",
              "      <td>7515</td>\n",
              "      <td>1958</td>\n",
              "      <td>10497</td>\n",
              "      <td>1</td>\n",
              "      <td>0</td>\n",
              "      <td>0</td>\n",
              "      <td>57</td>\n",
              "      <td>0</td>\n",
              "    </tr>\n",
              "  </tbody>\n",
              "</table>\n",
              "</div>"
            ],
            "text/plain": [
              "       price  year_sold  property_tax  insurance  beds  baths  sqft  \\\n",
              "1855  760000       2008           881        249     5      5  7842   \n",
              "1856  690000       2015          1553        473     5      6  6501   \n",
              "1857  600000       1999           942        287     5      6  7064   \n",
              "1858  759900       2009           803        245     5      6  7500   \n",
              "1859  735000       2015          1459        444     5      6  7515   \n",
              "\n",
              "      year_built  lot_size  basement  popular  recession  property_age  \\\n",
              "1855        2003    436035         1        0          0             5   \n",
              "1856        1956     23086         1        0          0            59   \n",
              "1857        1995    217800         1        0          0             4   \n",
              "1858        2006      8886         1        0          0             3   \n",
              "1859        1958     10497         1        0          0            57   \n",
              "\n",
              "      property_type_Condo  \n",
              "1855                    0  \n",
              "1856                    0  \n",
              "1857                    0  \n",
              "1858                    0  \n",
              "1859                    0  "
            ]
          },
          "execution_count": 3,
          "metadata": {},
          "output_type": "execute_result"
        }
      ],
      "source": [
        "df.tail()"
      ]
    },
    {
      "cell_type": "code",
      "execution_count": 4,
      "metadata": {
        "colab": {
          "base_uri": "https://localhost:8080/"
        },
        "id": "dow7Zwd4gHi2",
        "outputId": "6b575289-c2e8-4fc7-eac1-188db0254e3c"
      },
      "outputs": [
        {
          "data": {
            "text/plain": [
              "(1860, 14)"
            ]
          },
          "execution_count": 4,
          "metadata": {},
          "output_type": "execute_result"
        }
      ],
      "source": [
        "df.shape"
      ]
    },
    {
      "cell_type": "markdown",
      "metadata": {
        "id": "LNMKUIsagHi2"
      },
      "source": [
        "## Linear Regression Model"
      ]
    },
    {
      "cell_type": "code",
      "execution_count": 5,
      "metadata": {
        "id": "HlhhJpV1gHi2"
      },
      "outputs": [],
      "source": [
        "# import linear regression model\n",
        "from sklearn.linear_model import LinearRegression"
      ]
    },
    {
      "cell_type": "code",
      "execution_count": 6,
      "metadata": {
        "id": "kcvqztZ5gHi2"
      },
      "outputs": [],
      "source": [
        "#step 1\n",
        "# seperate input features in x\n",
        "x = df.drop('price', axis=1)\n",
        "\n",
        "# store the target variable in y\n",
        "y = df['price']"
      ]
    },
    {
      "cell_type": "code",
      "execution_count": 7,
      "metadata": {
        "id": "vPY9e72sl1dB"
      },
      "outputs": [],
      "source": [
        "# import module\n",
        "from sklearn.model_selection import train_test_split"
      ]
    },
    {
      "cell_type": "code",
      "execution_count": 8,
      "metadata": {
        "id": "1B1Xb6nIrftc"
      },
      "outputs": [],
      "source": [
        "#df['property_type_Condo'] = df['property_type_Condo'].astype(object) we do not need this one"
      ]
    },
    {
      "cell_type": "code",
      "execution_count": 9,
      "metadata": {
        "id": "WfhJriuEpZnu"
      },
      "outputs": [],
      "source": [
        "x_train, x_test, y_train, y_test = train_test_split(x,y, test_size=0.2, stratify=x.property_type_Condo)"
      ]
    },
    {
      "cell_type": "code",
      "execution_count": 10,
      "metadata": {
        "colab": {
          "base_uri": "https://localhost:8080/",
          "height": 178
        },
        "id": "cqW-uHMPyBg_",
        "outputId": "35362ead-a656-4f17-bd04-e49dfc2e0e51"
      },
      "outputs": [
        {
          "data": {
            "text/plain": [
              "property_type_Condo\n",
              "0    1208\n",
              "1     280\n",
              "Name: count, dtype: int64"
            ]
          },
          "execution_count": 10,
          "metadata": {},
          "output_type": "execute_result"
        }
      ],
      "source": [
        "x_train.property_type_Condo.value_counts()"
      ]
    },
    {
      "cell_type": "code",
      "execution_count": 11,
      "metadata": {
        "id": "dZ5ZswxHgHi2"
      },
      "outputs": [],
      "source": [
        "#step 2\n",
        "# Split the dataset\n",
        "x_train, x_test, y_train, y_test = train_test_split(x,y, test_size=0.2, stratify=x.property_type_Condo)"
      ]
    },
    {
      "cell_type": "code",
      "execution_count": 12,
      "metadata": {
        "colab": {
          "base_uri": "https://localhost:8080/",
          "height": 206
        },
        "id": "8g-5rzi0m--0",
        "outputId": "a807521e-8b6a-41b3-e5d0-2655f7b2c059"
      },
      "outputs": [
        {
          "data": {
            "text/html": [
              "<div>\n",
              "<style scoped>\n",
              "    .dataframe tbody tr th:only-of-type {\n",
              "        vertical-align: middle;\n",
              "    }\n",
              "\n",
              "    .dataframe tbody tr th {\n",
              "        vertical-align: top;\n",
              "    }\n",
              "\n",
              "    .dataframe thead th {\n",
              "        text-align: right;\n",
              "    }\n",
              "</style>\n",
              "<table border=\"1\" class=\"dataframe\">\n",
              "  <thead>\n",
              "    <tr style=\"text-align: right;\">\n",
              "      <th></th>\n",
              "      <th>year_sold</th>\n",
              "      <th>property_tax</th>\n",
              "      <th>insurance</th>\n",
              "      <th>beds</th>\n",
              "      <th>baths</th>\n",
              "      <th>sqft</th>\n",
              "      <th>year_built</th>\n",
              "      <th>lot_size</th>\n",
              "      <th>basement</th>\n",
              "      <th>popular</th>\n",
              "      <th>recession</th>\n",
              "      <th>property_age</th>\n",
              "      <th>property_type_Condo</th>\n",
              "    </tr>\n",
              "  </thead>\n",
              "  <tbody>\n",
              "    <tr>\n",
              "      <th>25</th>\n",
              "      <td>2005</td>\n",
              "      <td>244</td>\n",
              "      <td>85</td>\n",
              "      <td>1</td>\n",
              "      <td>1</td>\n",
              "      <td>705</td>\n",
              "      <td>1985</td>\n",
              "      <td>0</td>\n",
              "      <td>0</td>\n",
              "      <td>0</td>\n",
              "      <td>0</td>\n",
              "      <td>20</td>\n",
              "      <td>1</td>\n",
              "    </tr>\n",
              "    <tr>\n",
              "      <th>764</th>\n",
              "      <td>2007</td>\n",
              "      <td>561</td>\n",
              "      <td>171</td>\n",
              "      <td>3</td>\n",
              "      <td>3</td>\n",
              "      <td>1628</td>\n",
              "      <td>1971</td>\n",
              "      <td>1694</td>\n",
              "      <td>1</td>\n",
              "      <td>0</td>\n",
              "      <td>0</td>\n",
              "      <td>36</td>\n",
              "      <td>0</td>\n",
              "    </tr>\n",
              "    <tr>\n",
              "      <th>640</th>\n",
              "      <td>2005</td>\n",
              "      <td>402</td>\n",
              "      <td>103</td>\n",
              "      <td>3</td>\n",
              "      <td>2</td>\n",
              "      <td>2121</td>\n",
              "      <td>2005</td>\n",
              "      <td>2178</td>\n",
              "      <td>1</td>\n",
              "      <td>0</td>\n",
              "      <td>0</td>\n",
              "      <td>0</td>\n",
              "      <td>0</td>\n",
              "    </tr>\n",
              "    <tr>\n",
              "      <th>89</th>\n",
              "      <td>2007</td>\n",
              "      <td>258</td>\n",
              "      <td>89</td>\n",
              "      <td>1</td>\n",
              "      <td>2</td>\n",
              "      <td>1489</td>\n",
              "      <td>1940</td>\n",
              "      <td>0</td>\n",
              "      <td>0</td>\n",
              "      <td>0</td>\n",
              "      <td>0</td>\n",
              "      <td>67</td>\n",
              "      <td>1</td>\n",
              "    </tr>\n",
              "    <tr>\n",
              "      <th>336</th>\n",
              "      <td>2011</td>\n",
              "      <td>477</td>\n",
              "      <td>158</td>\n",
              "      <td>2</td>\n",
              "      <td>2</td>\n",
              "      <td>2310</td>\n",
              "      <td>1955</td>\n",
              "      <td>3062</td>\n",
              "      <td>1</td>\n",
              "      <td>1</td>\n",
              "      <td>1</td>\n",
              "      <td>56</td>\n",
              "      <td>0</td>\n",
              "    </tr>\n",
              "  </tbody>\n",
              "</table>\n",
              "</div>"
            ],
            "text/plain": [
              "     year_sold  property_tax  insurance  beds  baths  sqft  year_built  \\\n",
              "25        2005           244         85     1      1   705        1985   \n",
              "764       2007           561        171     3      3  1628        1971   \n",
              "640       2005           402        103     3      2  2121        2005   \n",
              "89        2007           258         89     1      2  1489        1940   \n",
              "336       2011           477        158     2      2  2310        1955   \n",
              "\n",
              "     lot_size  basement  popular  recession  property_age  property_type_Condo  \n",
              "25          0         0        0          0            20                    1  \n",
              "764      1694         1        0          0            36                    0  \n",
              "640      2178         1        0          0             0                    0  \n",
              "89          0         0        0          0            67                    1  \n",
              "336      3062         1        1          1            56                    0  "
            ]
          },
          "execution_count": 12,
          "metadata": {},
          "output_type": "execute_result"
        }
      ],
      "source": [
        "x_train.head()"
      ]
    },
    {
      "cell_type": "code",
      "execution_count": 13,
      "metadata": {
        "colab": {
          "base_uri": "https://localhost:8080/"
        },
        "id": "-Sdke-9lgHi3",
        "outputId": "14194678-d354-4f23-db7a-5e366b5a0000"
      },
      "outputs": [
        {
          "data": {
            "text/plain": [
              "((1488, 13), (1488,), (372, 13), (372,))"
            ]
          },
          "execution_count": 13,
          "metadata": {},
          "output_type": "execute_result"
        }
      ],
      "source": [
        "x_train.shape, y_train.shape, x_test.shape, y_test.shape"
      ]
    },
    {
      "cell_type": "code",
      "execution_count": 14,
      "metadata": {
        "id": "7HmY2tb6oQiu"
      },
      "outputs": [],
      "source": [
        "# train your model\n",
        "model = LinearRegression()\n",
        "lrmodel = model.fit(x_train, y_train)"
      ]
    },
    {
      "cell_type": "code",
      "execution_count": 15,
      "metadata": {
        "colab": {
          "base_uri": "https://localhost:8080/"
        },
        "id": "k4YUaEHooyCo",
        "outputId": "64d8a5f0-3fb7-4132-c4af-183773654679"
      },
      "outputs": [
        {
          "data": {
            "text/plain": [
              "array([ 8.21072108e+03, -1.13085670e+02,  1.81325769e+03, -4.33326948e+02,\n",
              "        1.05060441e+03,  1.41581301e+01,  4.57505551e+03,  1.53504510e-01,\n",
              "        1.57061341e+04,  2.40131760e+03, -4.93696735e+04,  3.63566557e+03,\n",
              "       -1.57061341e+04])"
            ]
          },
          "execution_count": 15,
          "metadata": {},
          "output_type": "execute_result"
        }
      ],
      "source": [
        "lrmodel.coef_"
      ]
    },
    {
      "cell_type": "code",
      "execution_count": 16,
      "metadata": {
        "colab": {
          "base_uri": "https://localhost:8080/"
        },
        "id": "ELiVZxw4o83i",
        "outputId": "45b57076-31bf-450a-f4fa-28582336d229"
      },
      "outputs": [
        {
          "data": {
            "text/plain": [
              "-25446624.18668623"
            ]
          },
          "execution_count": 16,
          "metadata": {},
          "output_type": "execute_result"
        }
      ],
      "source": [
        "lrmodel.intercept_"
      ]
    },
    {
      "cell_type": "code",
      "execution_count": 17,
      "metadata": {
        "colab": {
          "base_uri": "https://localhost:8080/",
          "height": 100
        },
        "id": "hlLsxUmepMha",
        "outputId": "2c993c6b-1cb7-4694-e18b-6318d30cb780"
      },
      "outputs": [
        {
          "data": {
            "text/html": [
              "<div>\n",
              "<style scoped>\n",
              "    .dataframe tbody tr th:only-of-type {\n",
              "        vertical-align: middle;\n",
              "    }\n",
              "\n",
              "    .dataframe tbody tr th {\n",
              "        vertical-align: top;\n",
              "    }\n",
              "\n",
              "    .dataframe thead th {\n",
              "        text-align: right;\n",
              "    }\n",
              "</style>\n",
              "<table border=\"1\" class=\"dataframe\">\n",
              "  <thead>\n",
              "    <tr style=\"text-align: right;\">\n",
              "      <th></th>\n",
              "      <th>year_sold</th>\n",
              "      <th>property_tax</th>\n",
              "      <th>insurance</th>\n",
              "      <th>beds</th>\n",
              "      <th>baths</th>\n",
              "      <th>sqft</th>\n",
              "      <th>year_built</th>\n",
              "      <th>lot_size</th>\n",
              "      <th>basement</th>\n",
              "      <th>popular</th>\n",
              "      <th>recession</th>\n",
              "      <th>property_age</th>\n",
              "      <th>property_type_Condo</th>\n",
              "    </tr>\n",
              "  </thead>\n",
              "  <tbody>\n",
              "    <tr>\n",
              "      <th>25</th>\n",
              "      <td>2005</td>\n",
              "      <td>244</td>\n",
              "      <td>85</td>\n",
              "      <td>1</td>\n",
              "      <td>1</td>\n",
              "      <td>705</td>\n",
              "      <td>1985</td>\n",
              "      <td>0</td>\n",
              "      <td>0</td>\n",
              "      <td>0</td>\n",
              "      <td>0</td>\n",
              "      <td>20</td>\n",
              "      <td>1</td>\n",
              "    </tr>\n",
              "  </tbody>\n",
              "</table>\n",
              "</div>"
            ],
            "text/plain": [
              "    year_sold  property_tax  insurance  beds  baths  sqft  year_built  \\\n",
              "25       2005           244         85     1      1   705        1985   \n",
              "\n",
              "    lot_size  basement  popular  recession  property_age  property_type_Condo  \n",
              "25         0         0        0          0            20                    1  "
            ]
          },
          "execution_count": 17,
          "metadata": {},
          "output_type": "execute_result"
        }
      ],
      "source": [
        "x_train.head(1)"
      ]
    },
    {
      "cell_type": "code",
      "execution_count": 18,
      "metadata": {
        "id": "ltA5svVPgHi3"
      },
      "outputs": [],
      "source": [
        "#step 4\n",
        "# make preditions on train set\n",
        "train_pred = lrmodel.predict(x_train)"
      ]
    },
    {
      "cell_type": "code",
      "execution_count": 19,
      "metadata": {
        "colab": {
          "base_uri": "https://localhost:8080/"
        },
        "id": "DpfRFf9-phrB",
        "outputId": "e2c466d1-15b0-4c50-ce4a-e7348b12a5af"
      },
      "outputs": [
        {
          "data": {
            "text/plain": [
              "array([291496.71521594, 468104.84706286, 377034.08034989, ...,\n",
              "       626123.81891583, 364923.68465375, 421992.17954483])"
            ]
          },
          "execution_count": 19,
          "metadata": {},
          "output_type": "execute_result"
        }
      ],
      "source": [
        "train_pred"
      ]
    },
    {
      "cell_type": "code",
      "execution_count": 20,
      "metadata": {
        "colab": {
          "base_uri": "https://localhost:8080/"
        },
        "id": "ZOKrwPAngHi3",
        "outputId": "23bcc26f-b90a-4487-adde-6309eb94ba50"
      },
      "outputs": [
        {
          "name": "stdout",
          "output_type": "stream",
          "text": [
            "Train error is 84029.3437786043\n"
          ]
        }
      ],
      "source": [
        "#step 5\n",
        "# evaluate your model\n",
        "# we need mean absolute error\n",
        "from sklearn.metrics import mean_absolute_error\n",
        "\n",
        "train_mae = mean_absolute_error(train_pred, y_train)\n",
        "print('Train error is', train_mae)"
      ]
    },
    {
      "cell_type": "code",
      "execution_count": 21,
      "metadata": {
        "colab": {
          "base_uri": "https://localhost:8080/"
        },
        "id": "lGdW7XTDgHi3",
        "outputId": "6dde2436-cde3-4ccd-cf3e-31c6f6af03ab"
      },
      "outputs": [
        {
          "data": {
            "text/plain": [
              "array([ 8.21072108e+03, -1.13085670e+02,  1.81325769e+03, -4.33326948e+02,\n",
              "        1.05060441e+03,  1.41581301e+01,  4.57505551e+03,  1.53504510e-01,\n",
              "        1.57061341e+04,  2.40131760e+03, -4.93696735e+04,  3.63566557e+03,\n",
              "       -1.57061341e+04])"
            ]
          },
          "execution_count": 21,
          "metadata": {},
          "output_type": "execute_result"
        }
      ],
      "source": [
        "lrmodel.coef_"
      ]
    },
    {
      "cell_type": "code",
      "execution_count": 22,
      "metadata": {
        "colab": {
          "base_uri": "https://localhost:8080/"
        },
        "id": "75iRpl6OgHi3",
        "outputId": "e146047c-116a-4af4-8cce-28243639076e"
      },
      "outputs": [
        {
          "data": {
            "text/plain": [
              "-25446624.18668623"
            ]
          },
          "execution_count": 22,
          "metadata": {},
          "output_type": "execute_result"
        }
      ],
      "source": [
        "lrmodel.intercept_"
      ]
    },
    {
      "cell_type": "code",
      "execution_count": 23,
      "metadata": {
        "colab": {
          "base_uri": "https://localhost:8080/"
        },
        "id": "fa4G_u9CgHi3",
        "outputId": "6addd4dc-78bf-4fbb-a710-cb020ed97ff4"
      },
      "outputs": [
        {
          "name": "stdout",
          "output_type": "stream",
          "text": [
            "Test error is 84756.35024264638\n"
          ]
        }
      ],
      "source": [
        "# make predictions om test set\n",
        "ypred = lrmodel.predict(x_test)\n",
        "\n",
        "#evaluate the model\n",
        "test_mae = mean_absolute_error(ypred, y_test)\n",
        "print('Test error is', test_mae)"
      ]
    },
    {
      "cell_type": "markdown",
      "metadata": {
        "id": "JgYmClmIgHi3"
      },
      "source": [
        "### Our model is still not good beacuse we need a model with Mean Absolute Error < $70,000\n",
        "\n",
        "Note - We have not scaled the features and not tuned the model."
      ]
    },
    {
      "cell_type": "markdown",
      "metadata": {
        "id": "qiowj-owgHi3"
      },
      "source": [
        "## Decision Tree Model"
      ]
    },
    {
      "cell_type": "code",
      "execution_count": 24,
      "metadata": {
        "id": "vlRpZFYugHi3"
      },
      "outputs": [],
      "source": [
        "# import decision tree model\n",
        "from sklearn.tree import DecisionTreeRegressor"
      ]
    },
    {
      "cell_type": "code",
      "execution_count": 25,
      "metadata": {
        "id": "l8IAvOqxgHi3"
      },
      "outputs": [],
      "source": [
        "# create an instance of the class\n",
        "dt = DecisionTreeRegressor(max_depth=3, max_features=10, random_state=567)"
      ]
    },
    {
      "cell_type": "code",
      "execution_count": 26,
      "metadata": {
        "id": "W7TIvQCOgHi3"
      },
      "outputs": [],
      "source": [
        "# train the model\n",
        "dtmodel = dt.fit(x_train,y_train)"
      ]
    },
    {
      "cell_type": "code",
      "execution_count": 27,
      "metadata": {
        "colab": {
          "base_uri": "https://localhost:8080/"
        },
        "id": "rD8Ulq3Mv4Y5",
        "outputId": "e4092070-cdbb-4546-caa4-0d286460c79d"
      },
      "outputs": [
        {
          "data": {
            "text/plain": [
              "64390.54239084183"
            ]
          },
          "execution_count": 27,
          "metadata": {},
          "output_type": "execute_result"
        }
      ],
      "source": [
        "# make predictions using the test set\n",
        "ytrain_pred = dtmodel.predict(x_train)\n",
        "\n",
        "# evaluate the model\n",
        "train_mae = mean_absolute_error(ytrain_pred, y_train)\n",
        "train_mae"
      ]
    },
    {
      "cell_type": "code",
      "execution_count": 28,
      "metadata": {
        "id": "9fu7mNEogHi4"
      },
      "outputs": [],
      "source": [
        "# make predictions using the test set\n",
        "ytest_pred = dtmodel.predict(x_test)"
      ]
    },
    {
      "cell_type": "code",
      "execution_count": 29,
      "metadata": {
        "colab": {
          "base_uri": "https://localhost:8080/"
        },
        "id": "9oABxlOjgHi4",
        "outputId": "22633a70-4231-4370-ac73-701aa09759b9"
      },
      "outputs": [
        {
          "data": {
            "text/plain": [
              "67093.10971218246"
            ]
          },
          "execution_count": 29,
          "metadata": {},
          "output_type": "execute_result"
        }
      ],
      "source": [
        "# evaluate the model\n",
        "test_mae = mean_absolute_error(ytest_pred, y_test)\n",
        "test_mae"
      ]
    },
    {
      "cell_type": "markdown",
      "metadata": {
        "id": "d19VdhMsgHi4"
      },
      "source": [
        "## Plot the tree"
      ]
    },
    {
      "cell_type": "code",
      "execution_count": 32,
      "metadata": {
        "id": "wdxw0gEpgHi4",
        "outputId": "ceba52c7-7f3d-4f52-f6f1-0fa0c4dc0324"
      },
      "outputs": [
        {
          "data": {
            "text/plain": [
              "array(['year_sold', 'property_tax', 'insurance', 'beds', 'baths', 'sqft',\n",
              "       'year_built', 'lot_size', 'basement', 'popular', 'recession',\n",
              "       'property_age', 'property_type_Condo'], dtype=object)"
            ]
          },
          "execution_count": 32,
          "metadata": {},
          "output_type": "execute_result"
        }
      ],
      "source": [
        "# get the features\n",
        "dtmodel.feature_names_in_"
      ]
    },
    {
      "cell_type": "code",
      "execution_count": 33,
      "metadata": {
        "id": "-kq6OpkBgHi4",
        "outputId": "e5ac2d44-301d-4128-f646-7d00fa3fa1f8"
      },
      "outputs": [],
      "source": [
        "# plot the tree\n",
        "from sklearn import tree\n",
        "\n",
        "# Plot the tree with feature names\n",
        "tree.plot_tree(dtmodel, feature_names=dtmodel.feature_names_in_)\n",
        "\n",
        "#tree.plot_tree(dtmodel)\n",
        "#plt.show(dpi=300)\n",
        "\n",
        "# Save the plot to a file\n",
        "plt.savefig('tree.png', dpi=300)"
      ]
    },
    {
      "cell_type": "markdown",
      "metadata": {
        "id": "EjN-nxzEgHi4"
      },
      "source": [
        "## Random Forest Model"
      ]
    },
    {
      "cell_type": "code",
      "execution_count": 34,
      "metadata": {
        "id": "RkCzXpLtgHi4"
      },
      "outputs": [],
      "source": [
        "# import decision tree model\n",
        "from sklearn.ensemble import RandomForestRegressor"
      ]
    },
    {
      "cell_type": "code",
      "execution_count": 35,
      "metadata": {
        "id": "UDqTPGiegHi4"
      },
      "outputs": [],
      "source": [
        "# create an instance of the model\n",
        "rf = RandomForestRegressor(n_estimators=200, criterion='absolute_error')"
      ]
    },
    {
      "cell_type": "code",
      "execution_count": 36,
      "metadata": {
        "id": "oG__jXNegHi4"
      },
      "outputs": [],
      "source": [
        "# train the model\n",
        "rfmodel = rf.fit(x_train,y_train)"
      ]
    },
    {
      "cell_type": "code",
      "execution_count": 37,
      "metadata": {
        "id": "UgTc0Er-gHi8"
      },
      "outputs": [],
      "source": [
        "# make prediction on train set\n",
        "ytrain_pred = rfmodel.predict(x_train)"
      ]
    },
    {
      "cell_type": "code",
      "execution_count": 38,
      "metadata": {
        "id": "1miSLAHkgHi8"
      },
      "outputs": [],
      "source": [
        "# make predictions on the x_test values\n",
        "ytest_pred = rfmodel.predict(x_test)"
      ]
    },
    {
      "cell_type": "code",
      "execution_count": 39,
      "metadata": {
        "id": "nTH6sOeAgHi8",
        "outputId": "7f2c3f10-4148-4eaf-f051-afccd71da6bb"
      },
      "outputs": [
        {
          "data": {
            "text/plain": [
              "46640.51133064516"
            ]
          },
          "execution_count": 39,
          "metadata": {},
          "output_type": "execute_result"
        }
      ],
      "source": [
        "# evaluate the model\n",
        "test_mae = mean_absolute_error(ytest_pred, y_test)\n",
        "test_mae"
      ]
    },
    {
      "cell_type": "markdown",
      "metadata": {
        "id": "tc8OXZNzgHi9"
      },
      "source": [
        "    "
      ]
    },
    {
      "cell_type": "code",
      "execution_count": 44,
      "metadata": {
        "id": "WmM7wJIbgHi9"
      },
      "outputs": [],
      "source": [
        "import pickle\n",
        "with open('Re_Model.pkl', 'wb') as f:\n",
        "    pickle.dump(rfmodel, f)"
      ]
    },
    {
      "cell_type": "code",
      "execution_count": 41,
      "metadata": {
        "id": "smF0TQ66gHi9"
      },
      "outputs": [],
      "source": [
        "# Load the pickled model\n",
        "RE_Model = pickle.load(open('RE_Model','rb'))"
      ]
    },
    {
      "cell_type": "raw",
      "metadata": {
        "id": "dzEe7uzvgHi9"
      },
      "source": [
        "np.array(xtrain.loc[22])\n",
        "ytrain[22]"
      ]
    },
    {
      "cell_type": "code",
      "execution_count": 42,
      "metadata": {
        "id": "81ZVX-LRgHi9",
        "outputId": "0e7e668b-83dd-4620-e147-5e90e2759788"
      },
      "outputs": [
        {
          "name": "stderr",
          "output_type": "stream",
          "text": [
            "c:\\Users\\shiva\\anaconda3\\Lib\\site-packages\\sklearn\\utils\\validation.py:2749: UserWarning: X does not have valid feature names, but DecisionTreeRegressor was fitted with feature names\n",
            "  warnings.warn(\n"
          ]
        },
        {
          "data": {
            "text/plain": [
              "array([266654.0959596])"
            ]
          },
          "execution_count": 42,
          "metadata": {},
          "output_type": "execute_result"
        }
      ],
      "source": [
        "# Use the loaded pickled model to make predictions\n",
        "RE_Model.predict([[2012, 216, 74, 1 , 1, 618, 2000, 600, 1, 0, 0, 6, 0]])"
      ]
    },
    {
      "cell_type": "code",
      "execution_count": 43,
      "metadata": {
        "colab": {
          "base_uri": "https://localhost:8080/",
          "height": 100
        },
        "id": "R7EWTeTtxQy4",
        "outputId": "b16e559d-25db-46a2-b095-08237ef5caab"
      },
      "outputs": [
        {
          "data": {
            "text/html": [
              "<div>\n",
              "<style scoped>\n",
              "    .dataframe tbody tr th:only-of-type {\n",
              "        vertical-align: middle;\n",
              "    }\n",
              "\n",
              "    .dataframe tbody tr th {\n",
              "        vertical-align: top;\n",
              "    }\n",
              "\n",
              "    .dataframe thead th {\n",
              "        text-align: right;\n",
              "    }\n",
              "</style>\n",
              "<table border=\"1\" class=\"dataframe\">\n",
              "  <thead>\n",
              "    <tr style=\"text-align: right;\">\n",
              "      <th></th>\n",
              "      <th>year_sold</th>\n",
              "      <th>property_tax</th>\n",
              "      <th>insurance</th>\n",
              "      <th>beds</th>\n",
              "      <th>baths</th>\n",
              "      <th>sqft</th>\n",
              "      <th>year_built</th>\n",
              "      <th>lot_size</th>\n",
              "      <th>basement</th>\n",
              "      <th>popular</th>\n",
              "      <th>recession</th>\n",
              "      <th>property_age</th>\n",
              "      <th>property_type_Condo</th>\n",
              "    </tr>\n",
              "  </thead>\n",
              "  <tbody>\n",
              "    <tr>\n",
              "      <th>1193</th>\n",
              "      <td>2009</td>\n",
              "      <td>442</td>\n",
              "      <td>134</td>\n",
              "      <td>4</td>\n",
              "      <td>3</td>\n",
              "      <td>1600</td>\n",
              "      <td>1998</td>\n",
              "      <td>1600</td>\n",
              "      <td>1</td>\n",
              "      <td>0</td>\n",
              "      <td>0</td>\n",
              "      <td>11</td>\n",
              "      <td>0</td>\n",
              "    </tr>\n",
              "  </tbody>\n",
              "</table>\n",
              "</div>"
            ],
            "text/plain": [
              "      year_sold  property_tax  insurance  beds  baths  sqft  year_built  \\\n",
              "1193       2009           442        134     4      3  1600        1998   \n",
              "\n",
              "      lot_size  basement  popular  recession  property_age  \\\n",
              "1193      1600         1        0          0            11   \n",
              "\n",
              "      property_type_Condo  \n",
              "1193                    0  "
            ]
          },
          "execution_count": 43,
          "metadata": {},
          "output_type": "execute_result"
        }
      ],
      "source": [
        "x_test.head(1)"
      ]
    },
    {
      "cell_type": "code",
      "execution_count": null,
      "metadata": {
        "id": "kURtIelWgHi9"
      },
      "outputs": [],
      "source": []
    }
  ],
  "metadata": {
    "anaconda-cloud": {},
    "colab": {
      "provenance": []
    },
    "kernelspec": {
      "display_name": "base",
      "language": "python",
      "name": "python3"
    },
    "language_info": {
      "codemirror_mode": {
        "name": "ipython",
        "version": 3
      },
      "file_extension": ".py",
      "mimetype": "text/x-python",
      "name": "python",
      "nbconvert_exporter": "python",
      "pygments_lexer": "ipython3",
      "version": "3.12.7"
    }
  },
  "nbformat": 4,
  "nbformat_minor": 0
}
